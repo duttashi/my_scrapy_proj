{
 "cells": [
  {
   "cell_type": "code",
   "execution_count": null,
   "metadata": {},
   "outputs": [],
   "source": [
    "#### References\n",
    "\n",
    "https://www.seleniumhq.org/docs/03_webdriver.jsp#chapter03-reference\n",
    "https://sites.google.com/a/chromium.org/chromedriver/downloads\n",
    "https://pypi.org/project/selenium/\n",
    "https://selenium-python.readthedocs.io/getting-started.html#simple-usage\n"
   ]
  },
  {
   "cell_type": "code",
   "execution_count": 2,
   "metadata": {},
   "outputs": [],
   "source": [
    "# A basic selenium based program\n",
    "from selenium import webdriver\n",
    "from selenium.common.exceptions import TimeoutException\n",
    "from selenium.webdriver.support.ui import WebDriverWait # available since 2.4.0\n",
    "from selenium.webdriver.support import expected_conditions as EC # available since 2.26.0"
   ]
  },
  {
   "cell_type": "code",
   "execution_count": 3,
   "metadata": {},
   "outputs": [],
   "source": [
    "# Create a new instance of the Firefox driver\n",
    "browser = webdriver.Chrome('C:/Windows/chromedriver.exe')"
   ]
  },
  {
   "cell_type": "code",
   "execution_count": 6,
   "metadata": {},
   "outputs": [
    {
     "ename": "SyntaxError",
     "evalue": "Missing parentheses in call to 'print'. Did you mean print(browser.title)? (<ipython-input-6-458ef6de8b57>, line 5)",
     "output_type": "error",
     "traceback": [
      "\u001b[1;36m  File \u001b[1;32m\"<ipython-input-6-458ef6de8b57>\"\u001b[1;36m, line \u001b[1;32m5\u001b[0m\n\u001b[1;33m    print browser.title\u001b[0m\n\u001b[1;37m                ^\u001b[0m\n\u001b[1;31mSyntaxError\u001b[0m\u001b[1;31m:\u001b[0m Missing parentheses in call to 'print'. Did you mean print(browser.title)?\n"
     ]
    }
   ],
   "source": [
    "# go to the google home page\n",
    "browser.get(\"http://www.google.com\")\n",
    "\n",
    "# the page is ajaxy so the title is originally this:\n",
    "print browser.title\n",
    "\n",
    "# find the element that's name attribute is q (the google search box)\n",
    "inputElement = browser.find_element_by_name(\"q\")\n",
    "\n",
    "# type in the search\n",
    "inputElement.send_keys(\"cheese!\")\n",
    "\n",
    "# submit the form (although google automatically searches now without submitting)\n",
    "inputElement.submit()\n",
    "\n",
    "try:\n",
    "    # we have to wait for the page to refresh, the last thing that seems to be updated is the title\n",
    "    WebDriverWait(browser, 10).until(EC.title_contains(\"cheese!\"))\n",
    "\n",
    "    # You should see \"cheese! - Google Search\"\n",
    "    print(browser.title)\n",
    "\n",
    "finally:\n",
    "    browser.quit()"
   ]
  },
  {
   "cell_type": "code",
   "execution_count": 4,
   "metadata": {},
   "outputs": [],
   "source": [
    "# URL and Request code for BeautifulSoup\n",
    "\n",
    "url_filter_bc = 'https://www.backcountry.com/msr-miniworks-ex-ceramic-water-filter?skid=CAS0479-CE-ONSI&ti=U2VhcmNoIFJlc3VsdHM6bXNyOjE6MTE6bXNy'\n",
    "res_filter_bc = requests.get(url_filter_bc, headers = {'User-agent' : 'notbot'})\n",
    "\n",
    "\n",
    "# Function that scrapes the reivews\n",
    "\n",
    "def scrape_bc(request, website):\n",
    "    newlist = []\n",
    "    soup = BeautifulSoup(request.content, 'lxml')\n",
    "    newsoup = soup.find('div', {'id': 'the-wall'})\n",
    "    reviews = newsoup.find('section', {'id': 'wall-content'})\n",
    "\n",
    "    for row in reviews.find_all('section', {'class': 'upc-single user-content-review review'}):\n",
    "        newdict = {}\n",
    "        newdict['review']  = row.find('p', {'class': 'user-content__body description'}).text\n",
    "        newdict['title']   = row.find('h3', {'class': 'user-content__title upc-title'}).text\n",
    "        newdict['website'] = website\n",
    "\n",
    "        newlist.append(newdict)\n",
    "\n",
    "    df = pd.DataFrame(newlist)\n",
    "    return df\n",
    "\n",
    "\n",
    "# function that uses Selenium and combines that with the scraper function to output a pandas Dataframe\n",
    "\n",
    "def full_bc(url, website):\n",
    "    driver = connect_to_page(url, headless=False)\n",
    "    request = requests.get(url, headers = {'User-agent' : 'notbot'})\n",
    "    time.sleep(5)\n",
    "    full_df = pd.DataFrame()\n",
    "    while True:\n",
    "        try:\n",
    "            loadMoreButton = driver.find_element_by_xpath(\"//a[@class='btn js-load-more-btn btn-secondary pdp-wall__load-more-btn']\")\n",
    "            time.sleep(2)\n",
    "            loadMoreButton.click()\n",
    "            time.sleep(2)\n",
    "        except:\n",
    "            print('Done Loading More')\n",
    "\n",
    "#             full_json = driver.page_source\n",
    "            temp_df = pd.DataFrame()\n",
    "            temp_df = scrape_bc(request, website)\n",
    "\n",
    "            full_df = pd.concat([full_df, temp_df], ignore_index = True)\n",
    "\n",
    "            time.sleep(7)\n",
    "            driver.quit()\n",
    "            break\n",
    "\n",
    "    return  full_df "
   ]
  },
  {
   "cell_type": "code",
   "execution_count": 10,
   "metadata": {},
   "outputs": [
    {
     "name": "stdout",
     "output_type": "stream",
     "text": [
      "Tag =  []\n"
     ]
    }
   ],
   "source": [
    "import requests\n",
    "from bs4 import BeautifulSoup\n",
    "\n",
    "url = \"http://www.bloomberg.com/quote/SPX:IND\"\n",
    "raw_html = requests.get(url)\n",
    "\n",
    "# get in BeautifulSoup format\n",
    "processed_html = BeautifulSoup(raw_html.content, \"html.parser\")\n",
    "# print('processed_html = ', processed_html)\n",
    "# tag = processed_html.find_all(\"div\", class_= \"headline__07dbac92\")\n",
    "#tag = processed_html.find_all(\"div\", class_= \"block_uuid\")\n",
    "tag = processed_html.find_all(\"div\")\n",
    "print('Tag = ', tag)"
   ]
  },
  {
   "cell_type": "code",
   "execution_count": null,
   "metadata": {},
   "outputs": [],
   "source": []
  }
 ],
 "metadata": {
  "kernelspec": {
   "display_name": "Python 3",
   "language": "python",
   "name": "python3"
  },
  "language_info": {
   "codemirror_mode": {
    "name": "ipython",
    "version": 3
   },
   "file_extension": ".py",
   "mimetype": "text/x-python",
   "name": "python",
   "nbconvert_exporter": "python",
   "pygments_lexer": "ipython3",
   "version": "3.7.1"
  }
 },
 "nbformat": 4,
 "nbformat_minor": 2
}
