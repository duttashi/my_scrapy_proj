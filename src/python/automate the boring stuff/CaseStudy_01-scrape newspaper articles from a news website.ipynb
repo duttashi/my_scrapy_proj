{
 "cells": [
  {
   "cell_type": "markdown",
   "metadata": {},
   "source": [
    "Objective: To collect the date, title, and content from the newspaper (the new york times)\n",
    "Website to scrape: https://www.nytimes.com/\n",
    "Search string: `security`\n",
    "Published articles date range:  "
   ]
  }
 ],
 "metadata": {
  "kernelspec": {
   "display_name": "Python 3",
   "language": "python",
   "name": "python3"
  },
  "language_info": {
   "codemirror_mode": {
    "name": "ipython",
    "version": 3
   },
   "file_extension": ".py",
   "mimetype": "text/x-python",
   "name": "python",
   "nbconvert_exporter": "python",
   "pygments_lexer": "ipython3",
   "version": "3.7.1"
  }
 },
 "nbformat": 4,
 "nbformat_minor": 2
}
