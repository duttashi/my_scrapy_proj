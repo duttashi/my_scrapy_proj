{
 "cells": [
  {
   "cell_type": "markdown",
   "metadata": {},
   "source": [
    "Aim:\n",
    "\n",
    "To develop a scraper that can scrape the following contents from multiple pages of a website.\n",
    "\n",
    "Objective: \n",
    "\n",
    "1. Scrape the paper title, author list, publication date, abstract and download the full paper.\n",
    "\n",
    "2. To scrape content from multiple pages and write scraped content to disc.\n",
    "\n",
    "Website to scrape the data from: http://www.mecs-press.org/ijmecs/v11n2.html"
   ]
  },
  {
   "cell_type": "code",
   "execution_count": null,
   "metadata": {},
   "outputs": [],
   "source": []
  }
 ],
 "metadata": {
  "kernelspec": {
   "display_name": "Python 3",
   "language": "python",
   "name": "python3"
  },
  "language_info": {
   "codemirror_mode": {
    "name": "ipython",
    "version": 3
   },
   "file_extension": ".py",
   "mimetype": "text/x-python",
   "name": "python",
   "nbconvert_exporter": "python",
   "pygments_lexer": "ipython3",
   "version": "3.6.8"
  }
 },
 "nbformat": 4,
 "nbformat_minor": 2
}
