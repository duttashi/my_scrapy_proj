{
 "cells": [
  {
   "cell_type": "markdown",
   "metadata": {},
   "source": [
    "Objective: To collect the date, title, and content from the newspaper (the new york times)\n",
    "\n",
    "Website to scrape: https://www.nytimes.com/\n",
    "\n",
    "Search string: `security`\n",
    "\n",
    "Published articles date range: `Jan 01 2018` till `May 27 2019` "
   ]
  },
  {
   "cell_type": "code",
   "execution_count": 1,
   "metadata": {},
   "outputs": [],
   "source": [
    "# load required libraries\n",
    "import time\n",
    "import requests\n",
    "from bs4 import BeautifulSoup\n",
    "from selenium import webdriver\n",
    "from selenium.webdriver.common.by import By\n",
    "from selenium.webdriver.support.ui import WebDriverWait\n",
    "from selenium.webdriver.support import expected_conditions as EC"
   ]
  },
  {
   "cell_type": "code",
   "execution_count": 6,
   "metadata": {},
   "outputs": [],
   "source": [
    "# create base\n",
    "base = \"https://www.nytimes.com\"\n",
    "browser = webdriver.Chrome('C:/Windows/chromedriver.exe')\n",
    "wait = WebDriverWait(browser, 10)\n",
    "browser.get('https://www.nytimes.com/search?endDate=20190527&query=security&sort=newest&startDate=20180101')"
   ]
  },
  {
   "cell_type": "code",
   "execution_count": 7,
   "metadata": {},
   "outputs": [
    {
     "ename": "SyntaxError",
     "evalue": "invalid syntax (<ipython-input-7-6c02a5f76812>, line 5)",
     "output_type": "error",
     "traceback": [
      "\u001b[1;36m  File \u001b[1;32m\"<ipython-input-7-6c02a5f76812>\"\u001b[1;36m, line \u001b[1;32m5\u001b[0m\n\u001b[1;33m    show_more = wait.until(EC.element_to_be_clickable((By.XPATH, '//button[@type=\"button\"][contains(.,\"Show More\")]')))\u001b[0m\n\u001b[1;37m            ^\u001b[0m\n\u001b[1;31mSyntaxError\u001b[0m\u001b[1;31m:\u001b[0m invalid syntax\n"
     ]
    }
   ],
   "source": [
    "# Build logic\n",
    "while True:\n",
    "    try:\n",
    "        time.sleep(1)\n",
    "    show_more = wait.until(EC.element_to_be_clickable((By.XPATH, '//button[@type=\"button\"][contains(.,\"Show More\")]')))\n",
    "        show_more.click()\n",
    "    except Exception as e:\n",
    "            print(e)\n",
    "            break\n",
    "\n",
    "soup = BeautifulSoup(browser.page_source,'lxml')\n",
    "search_results = soup.find('ol', {'data-testid':'search-results'})\n",
    "for a in search_results.find_all('a', href=True):\n",
    "    page_url = \"https://www.nytimes.com\" + a['href']\n",
    "    print(page_url)\n",
    "    page = requests.get(page_url)\n",
    "    page_soup = BeautifulSoup(page.content,'lxml')\n",
    "    page_soup_div = page_soup.find_all(\"div\", {\"class\":\"StoryBodyCompanionColumn\"})\n",
    "    for p_content in page_soup_div:\n",
    "        print(p_content.text)"
   ]
  },
  {
   "cell_type": "markdown",
   "metadata": {},
   "source": [
    "Reference: This question was originally asked on [SO](https://stackoverflow.com/questions/56334695/how-to-scrape-newspaper-articles-from-website-using-selenium-and-beautifulsoup-i)"
   ]
  },
  {
   "cell_type": "code",
   "execution_count": null,
   "metadata": {},
   "outputs": [],
   "source": []
  }
 ],
 "metadata": {
  "kernelspec": {
   "display_name": "Python 3",
   "language": "python",
   "name": "python3"
  },
  "language_info": {
   "codemirror_mode": {
    "name": "ipython",
    "version": 3
   },
   "file_extension": ".py",
   "mimetype": "text/x-python",
   "name": "python",
   "nbconvert_exporter": "python",
   "pygments_lexer": "ipython3",
   "version": "3.7.1"
  }
 },
 "nbformat": 4,
 "nbformat_minor": 2
}
