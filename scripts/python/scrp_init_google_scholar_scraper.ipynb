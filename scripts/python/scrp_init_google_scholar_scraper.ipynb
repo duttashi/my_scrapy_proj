{
 "cells": [
  {
   "cell_type": "markdown",
   "metadata": {},
   "source": [
    "##### Scraping and parsing citation info from Google Scholar search results"
   ]
  },
  {
   "cell_type": "markdown",
   "metadata": {},
   "source": [
    "Reference: https://stackoverflow.com/questions/56220399/scraping-and-parsing-citation-info-from-google-scholar-search-results"
   ]
  },
  {
   "cell_type": "code",
   "execution_count": 1,
   "metadata": {},
   "outputs": [],
   "source": [
    "import requests\n",
    "from bs4 import BeautifulSoup as bs"
   ]
  },
  {
   "cell_type": "code",
   "execution_count": 2,
   "metadata": {},
   "outputs": [],
   "source": [
    "queries = ['mixed data clustering','educational data mining']"
   ]
  },
  {
   "cell_type": "code",
   "execution_count": 3,
   "metadata": {},
   "outputs": [
    {
     "name": "stdout",
     "output_type": "stream",
     "text": [
      "Clustering large data sets with mixed numeric and categorical values https://grid.cs.gsu.edu/~wkim/index_files/papers/kprototype.pdf Cited by 502\n",
      "Educational data mining: A survey from 1995 to 2005 https://www.sciencedirect.com/science/article/pii/S0957417406001266 Cited by 1513\n"
     ]
    }
   ],
   "source": [
    "#with requests.Session() as s:\n",
    "with requests.Session() as s:\n",
    "    for query in queries:\n",
    "        url = 'https://scholar.google.com/scholar?hl=en&as_sdt=0%2C5&q=' + query + '&ie=UTF-8&oe=UTF-8&hl=en&btnG=Search'\n",
    "        r = s.get(url)\n",
    "        soup = bs(r.content, 'lxml') # or 'html.parser'\n",
    "        title = soup.select_one('h3.gs_rt a').text if soup.select_one('h3.gs_rt a') is not None else 'No title'\n",
    "        link = soup.select_one('h3.gs_rt a')['href'] if title != 'No title' else 'No link'\n",
    "        citations = soup.select_one('a:contains(\"Cited by\")').text if soup.select_one('a:contains(\"Cited by\")') is not None else 'No citation count'\n",
    "        print(title, link, citations)"
   ]
  },
  {
   "cell_type": "code",
   "execution_count": 7,
   "metadata": {},
   "outputs": [
    {
     "name": "stdout",
     "output_type": "stream",
     "text": [
      "[{'title': 'Educational data mining: A survey from 1995 to 2005', 'url': 'https://www.sciencedirect.com/science/article/pii/S0957417406001266', 'citation': 'Currently there is an increasing interest in data mining and educational systems, making educational data mining as a new growing research community. This paper surveys the application of data mining to traditional educational systems, particular web-based courses\\xa0…'}, {'title': 'The state of educational data mining in 2009: A review and future visions', 'url': 'https://jedm.educationaldatamining.org/index.php/JEDM/article/view/8', 'citation': 'We review the history and current trends in the field of Educational Data Mining (EDM). We consider the methodological profile of research in the early years of EDM, compared to in 2008 and 2009, and discuss trends and shifts in the research conducted by this community\\xa0…'}, {'title': 'Educational data mining: a review of the state of the art', 'url': 'https://ieeexplore.ieee.org/abstract/document/5524021/', 'citation': 'Educational data mining (EDM) is an emerging interdisciplinary research area that deals with the development of methods to explore data originating in an educational context. EDM uses computational approaches to analyze educational data in order to study educational\\xa0…'}, {'title': 'Learning analytics and educational data mining: towards communication and collaboration', 'url': 'https://dl.acm.org/citation.cfm?id=2330661', 'citation': 'Growing interest in data and analytics in education, teaching, and learning raises the priority for increased, high-quality research into the models, methods, technologies, and impact of analytics. Two research communities--Educational Data Mining (EDM) and Learning\\xa0…'}, {'title': 'Educational data mining and learning analytics', 'url': 'https://link.springer.com/chapter/10.1007/978-1-4614-3305-7_4', 'citation': 'In recent years, two communities have grown around a joint interest on how big data can be exploited to benefit education and the science of learning: Educational Data Mining and Learning Analytics. This article discusses the relationship between these two communities\\xa0…'}, {'title': 'Handbook of educational data mining', 'url': 'https://books.google.com/books?hl=en&lr=&id=u5aWVw0uQJMC&oi=fnd&pg=PP1&dq=educational+data+mining&ots=KC3VEyZ-6L&sig=rblSoIuaISeY3zhTOcomj03k09c', 'citation': 'Handbook of Educational Data Mining (EDM) provides a thorough overview of the current state of knowledge in this area. The first part of the book includes nine surveys and tutorials on the principal data mining techniques that have been applied in education. The second\\xa0…'}, {'title': \"Mining educational data to analyze students' performance\", 'url': 'https://arxiv.org/abs/1201.3417', 'citation': 'The main objective of higher education institutions is to provide quality education to its students. One way to achieve highest level of quality in higher education system is by discovering knowledge for prediction regarding enrolment of students in a particular course\\xa0…'}, {'title': 'Educational data mining: A survey and a data mining-based analysis of recent works', 'url': 'https://www.sciencedirect.com/science/article/pii/S0957417413006635', 'citation': 'This review pursues a twofold goal, the first is to preserve and enhance the chronicles of recent educational data mining (EDM) advances development; the second is to organize, analyze, and discuss the content of the review based on the outcomes produced by a data\\xa0…'}, {'title': 'Educational Data Mining: a Case Study.', 'url': 'https://books.google.com/books?hl=en&lr=&id=OALvAgAAQBAJ&oi=fnd&pg=PA467&dq=educational+data+mining&ots=nf9Dyo9VdW&sig=W68sylJsYMOwLZ13NoaQuW2-3cQ', 'citation': 'In this paper, we show how using data mining algorithms can help discovering pedagogically relevant knowledge contained in databases obtained from Web-based educational systems. These findings can be used both to help teachers with managing their\\xa0…'}, {'title': 'Learning analytics and educational data mining in practice: A systematic literature review of empirical evidence', 'url': 'https://www.jstor.org/stable/pdf/jeductechsoci.17.4.49.pdf', 'citation': 'This paper aims to provide the reader with a comprehensive background for understanding current knowledge on Learning Analytics (LA) and Educational Data Mining (EDM) and its impact on adaptive learning. It constitutes an overview of empirical evidence behind key\\xa0…'}]\n"
     ]
    }
   ],
   "source": [
    "url = 'https://scholar.google.com/scholar?q=' + query + '&ie=UTF-8&oe=UTF-8&hl=en&btnG=Search'\n",
    "\n",
    "content = requests.get(url).text\n",
    "page = bs(content, 'lxml')\n",
    "results = []\n",
    "for entry in page.find_all(\"div\", attrs={\"class\": \"gs_ri\"}): #tag containing both h3 and citation\n",
    "    results.append({\"title\": entry.h3.a.text, \"url\": entry.a['href'], \"citation\": entry.find(\"div\", attrs={\"class\": \"gs_rs\"}).text})\n",
    "print(results)"
   ]
  },
  {
   "cell_type": "code",
   "execution_count": null,
   "metadata": {},
   "outputs": [],
   "source": []
  }
 ],
 "metadata": {
  "kernelspec": {
   "display_name": "Python 3",
   "language": "python",
   "name": "python3"
  },
  "language_info": {
   "codemirror_mode": {
    "name": "ipython",
    "version": 3
   },
   "file_extension": ".py",
   "mimetype": "text/x-python",
   "name": "python",
   "nbconvert_exporter": "python",
   "pygments_lexer": "ipython3",
   "version": "3.7.1"
  }
 },
 "nbformat": 4,
 "nbformat_minor": 2
}
