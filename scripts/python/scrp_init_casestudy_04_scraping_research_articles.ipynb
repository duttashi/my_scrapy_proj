{
 "cells": [
  {
   "cell_type": "markdown",
   "metadata": {},
   "source": [
    "Aim:\n",
    "\n",
    "To develop a scraper that can scrape the following contents from multiple pages of a website.\n",
    "\n",
    "Objective: \n",
    "\n",
    "1. Scrape the paper title, author list, publication date, abstract and download the full paper.\n",
    "\n",
    "2. To scrape content from multiple pages and write scraped content to disc.\n",
    "\n",
    "Website to scrape the data from: http://www.mecs-press.org/ijmecs/v11n2.html"
   ]
  },
  {
   "cell_type": "code",
   "execution_count": 2,
   "metadata": {},
   "outputs": [],
   "source": [
    "# load the required libraries\n",
    "import requests\n",
    "from bs4 import BeautifulSoup"
   ]
  },
  {
   "cell_type": "code",
   "execution_count": 1,
   "metadata": {},
   "outputs": [],
   "source": [
    "pgUrl = \"http://www.mecs-press.org/ijmecs/v11n2.html\""
   ]
  },
  {
   "cell_type": "code",
   "execution_count": 5,
   "metadata": {},
   "outputs": [],
   "source": [
    "# define function to extract page\n",
    "def get_page(url):\n",
    "    page = requests.get(url)\n",
    "    soup = BeautifulSoup(page.text, 'html.parser')\n",
    "    return soup"
   ]
  },
  {
   "cell_type": "code",
   "execution_count": 6,
   "metadata": {},
   "outputs": [],
   "source": [
    "# get data\n",
    "def get_article_name(url):\n",
    "    soup = get_page(url)\n",
    "    try:\n",
    "        title = soup.find(h3=\"tit\")\n",
    "        print(\"SUCCESS\")\n",
    "\n",
    "    except AttributeError:\n",
    "        print(\"ERROR\")\n",
    "    return(title)"
   ]
  },
  {
   "cell_type": "code",
   "execution_count": 7,
   "metadata": {},
   "outputs": [
    {
     "name": "stdout",
     "output_type": "stream",
     "text": [
      "SUCCESS\n",
      "None\n"
     ]
    }
   ],
   "source": [
    "# call the scraper function\n",
    "print(get_article_name(pgUrl))"
   ]
  }
 ],
 "metadata": {
  "kernelspec": {
   "display_name": "Python 3",
   "language": "python",
   "name": "python3"
  },
  "language_info": {
   "codemirror_mode": {
    "name": "ipython",
    "version": 3
   },
   "file_extension": ".py",
   "mimetype": "text/x-python",
   "name": "python",
   "nbconvert_exporter": "python",
   "pygments_lexer": "ipython3",
   "version": "3.6.8"
  }
 },
 "nbformat": 4,
 "nbformat_minor": 2
}
